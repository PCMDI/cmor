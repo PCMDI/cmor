{
 "cells": [
  {
   "cell_type": "markdown",
   "metadata": {
    "collapsed": true
   },
   "source": [
    "How To for CMIP6\n",
    "========="
   ]
  },
  {
   "cell_type": "markdown",
   "metadata": {},
   "source": [
    "Setup the environement\n",
    "--------------------"
   ]
  },
  {
   "cell_type": "code",
   "execution_count": null,
   "metadata": {
    "collapsed": true
   },
   "outputs": [],
   "source": [
    "# Switch to GENCMIP6 env\n",
    "module switch dfldatadir dfldatadir/gencmip6\n",
    "\n",
    "# Add CMIP6 Python env to PATH\n",
    "export PATH=$GENCMIP6_ALL_CCCWORKDIR/miniconda/bin:$PATH\n",
    "\n",
    "# Activate the CMIP6 Python env\n",
    "source activate cmip6"
   ]
  },
  {
   "cell_type": "markdown",
   "metadata": {},
   "source": [
    "Generic usage (FYI)\n",
    "------------------"
   ]
  },
  {
   "cell_type": "code",
   "execution_count": null,
   "metadata": {
    "collapsed": true
   },
   "outputs": [],
   "source": [
    "# Check the help\n",
    "PrePARE -h"
   ]
  },
  {
   "cell_type": "markdown",
   "metadata": {},
   "source": [
    "Validate CMIP6 netCDF for ESGF publication\n",
    "----------------------------------------"
   ]
  },
  {
   "cell_type": "code",
   "execution_count": null,
   "metadata": {
    "collapsed": true
   },
   "outputs": [],
   "source": [
    "# The simulation path can be the directory level including all XiOS output files.\n",
    "# PrePARE will filter discovered files to only analyse the netCDF ones.\n",
    "SIMULATION=$GENCMIP6_CCCWORKDIR/IGCM_OUT/IPSLCM6/PROD/1pctCO2/CM61-LR-1pctCO2-01/CMIP6/\n",
    "\n",
    "# Sequential run\n",
    "PrePARE $SIMULATION\n",
    "\n",
    "# By default PrePARE only prints errors. To show all results:\n",
    "PrePARE $SIMULATION --all\n",
    "\n",
    "# Increase multiprocessing (default is 4 processes)\n",
    "PrePARE $SIMULATION --max-threads 6\n",
    "\n",
    "# It could be useful to redirect the standard output to a logfile\n",
    "LOGDIR=$GENCMIP6_CCCWORKDIR/IGCM_OUT/IPSLCM6/PROD/1pctCO2/CM61-LR-1pctCO2-01/\n",
    "PrePARE $SIMULATION 1>$LOGDIR/PrePARE-$(date +'%Y%m%d-%H%M%S').log 2>&1"
   ]
  },
  {
   "cell_type": "markdown",
   "metadata": {},
   "source": [
    "Close your Python session\n",
    "-----------------------"
   ]
  },
  {
   "cell_type": "code",
   "execution_count": null,
   "metadata": {
    "collapsed": true
   },
   "outputs": [],
   "source": [
    "# Deactivate CMIP6 Python env\n",
    "source deactivate"
   ]
  }
 ],
 "metadata": {
  "kernelspec": {
   "display_name": "Python 2",
   "language": "python",
   "name": "python2"
  },
  "language_info": {
   "codemirror_mode": {
    "name": "ipython",
    "version": 2
   },
   "file_extension": ".py",
   "mimetype": "text/x-python",
   "name": "python",
   "nbconvert_exporter": "python",
   "pygments_lexer": "ipython2",
   "version": "2.7.14"
  }
 },
 "nbformat": 4,
 "nbformat_minor": 2
}
