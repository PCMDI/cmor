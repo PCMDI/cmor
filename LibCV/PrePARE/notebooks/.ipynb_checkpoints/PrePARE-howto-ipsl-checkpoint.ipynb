{
 "cells": [
  {
   "cell_type": "markdown",
   "metadata": {
    "collapsed": true
   },
   "source": [
    "How To for CMIP6\n",
    "========="
   ]
  },
  {
   "cell_type": "markdown",
   "metadata": {},
   "source": [
    "Setup the environement\n",
    "--------------------"
   ]
  },
  {
   "cell_type": "code",
   "execution_count": null,
   "metadata": {
    "collapsed": true
   },
   "outputs": [],
   "source": [
    "# Switch to GENCMIP6 env\n",
    "module switch dfldatadir dfldatadir/gencmip6\n",
    "\n",
    "# Add CMIP6 Python env to PATH\n",
    "export PATH=$GENCMIP6_ALL_CCCWORKDIR/miniconda/bin:$PATH\n",
    "\n",
    "# Activate the CMIP6 Python env\n",
    "source activate cmip6"
   ]
  },
  {
   "cell_type": "markdown",
   "metadata": {},
   "source": [
    "Generic usage (FYI)\n",
    "------------------"
   ]
  },
  {
   "cell_type": "code",
   "execution_count": null,
   "metadata": {
    "collapsed": true
   },
   "outputs": [],
   "source": [
    "# Check the help\n",
    "PrePARE -h"
   ]
  },
  {
   "cell_type": "markdown",
   "metadata": {},
   "source": [
    "Validate CMIP6 netCDF for ESGF publication\n",
    "----------------------------------------"
   ]
  },
  {
   "cell_type": "code",
   "execution_count": null,
   "metadata": {
    "collapsed": true
   },
   "outputs": [],
   "source": [
    "# The simulation path can be the directory level including all XiOS output files.\n",
    "# PrePARE will filter discovered files to only analyse the netCDF ones.\n",
    "PrePARE --table-path $GENCMIP6_ALL_CCCWORKDIR/cmip6-cmor-tables/Tables /PATH/TO/SIMULATION/"
   ]
  },
  {
   "cell_type": "markdown",
   "metadata": {},
   "source": [
    "Close your Python session\n",
    "-----------------------"
   ]
  },
  {
   "cell_type": "code",
   "execution_count": null,
   "metadata": {
    "collapsed": true
   },
   "outputs": [],
   "source": [
    "# Deactivate CMIP6 Python env\n",
    "source deactivate"
   ]
  }
 ],
 "metadata": {
  "kernelspec": {
   "display_name": "Python 2",
   "language": "python",
   "name": "python2"
  },
  "language_info": {
   "codemirror_mode": {
    "name": "ipython",
    "version": 2
   },
   "file_extension": ".py",
   "mimetype": "text/x-python",
   "name": "python",
   "nbconvert_exporter": "python",
   "pygments_lexer": "ipython2",
   "version": "2.7.14"
  }
 },
 "nbformat": 4,
 "nbformat_minor": 2
}
