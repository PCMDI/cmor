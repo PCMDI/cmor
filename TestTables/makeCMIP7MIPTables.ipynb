{
 "cells": [
  {
   "cell_type": "markdown",
   "id": "bf06a941-6e9b-4c27-abbc-5490790547bc",
   "metadata": {},
   "source": [
    "# Pull MIP table files; reformulate for CMOR 3.10\n",
    "<div style=\"text-align: right\">\n",
    "<p>\n",
    "    <img src=\"https://pcmdi.github.io/assets/PCMDI/199x65px-PCMDI-Logo-Text-rectangle.png\"\n",
    "         width=\"91\"\n",
    "         height=\"30\"\n",
    "         class=\"fixed-height-image\"\n",
    "         style=\"margin-right: 20px\"\n",
    "         title=\"Program for Climate Model Diagnosis and Intercomparison\"\n",
    "         alt=\"Program for Climate Model Diagnosis and Intercomparison\"\n",
    "    >&nbsp;\n",
    "    <img src=\"https://pcmdi.github.io/assets/LLNL/212px-LLNLiconPMS286-WHITEBACKGROUND.png\"\n",
    "         width=\"30\"\n",
    "         height=\"30\"\n",
    "         class=\"fixed-height-image\"\n",
    "         style=\"margin-right: 20px\"\n",
    "         title=\"Lawrence Livermore National Laboratory\"\n",
    "         alt=\"Lawrence Livermore National Laboratory\"\n",
    "    >&nbsp;\n",
    "    <img src=\"https://pcmdi.github.io/assets/DOE/459x127px-DOE-Logo_Color_TextOnly.png\"\n",
    "         width=\"108\"\n",
    "         height=\"30\"\n",
    "         class=\"fixed-height-image\"\n",
    "         style=\"margin-right: 20px\"\n",
    "         title=\"United States Department of Energy\"\n",
    "         alt=\"United States Department of Energy\"\n",
    "    >\n",
    "</p>\n",
    "</div>"
   ]
  },
  {
   "cell_type": "markdown",
   "id": "f4932c47-b1da-4bad-b3e6-3864bc9d8214",
   "metadata": {},
   "source": [
    "**Summary**\n",
    "\n",
    "This file pulls a CMIP6Plus/CMOR3.9.0-era MIP table files, strips out extraneous variables and saves the files for local use\n",
    "\n",
    "**Authors**\n",
    "\n",
    "Paul J. Durack ([durack1](https://github.com/durack1); [PCMDI](https://pcmdi.llnl.gov/), [Lawrence Livermore National Laboratory](https://www.llnl.gov/))\n",
    "\n",
    "**Notes**\n",
    "\n",
    "PJD 25 Feb 2025 - initiated<br>\n",
    "PJD 25 Feb 2025 - first pass at initial CMOR 3.10 test tables and CMIP7_CV.json<br>\n",
    "KET 25 Feb 2025 - update to run local in TestTables<br>\n",
    "PJD  3 Mar 2025 - updated frequency with approx_interval<br>\n",
    "PJD  3 Mar 2025 - augmented with CMOR-required entries<BR>\n",
    "PJD  5 Mar 2025 - updates following comments in https://github.com/PCMDI/cmor/pull/778/files/b9f28097dcf1afc99c7823dbdd0991e646de600f<br>\n",
    "TODO:\n",
    "\n",
    "**Links**"
   ]
  },
  {
   "cell_type": "markdown",
   "id": "b8d32467-eba5-4e78-a3df-eb1c4c5d2899",
   "metadata": {},
   "source": [
    "### imports"
   ]
  },
  {
   "cell_type": "code",
   "execution_count": 1,
   "id": "bbcc47a3-5397-463b-8c81-91deaf36f9b2",
   "metadata": {},
   "outputs": [
    {
     "name": "stdout",
     "output_type": "stream",
     "text": [
      "CPU times: user 35.1 ms, sys: 14.7 ms, total: 49.8 ms\n",
      "Wall time: 60.8 ms\n"
     ]
    }
   ],
   "source": [
    "%%time\n",
    "import datetime\n",
    "import hashlib\n",
    "import json\n",
    "import os\n",
    "import requests"
   ]
  },
  {
   "cell_type": "markdown",
   "id": "9488d23b-43b1-425d-a335-99b0b9f447ac",
   "metadata": {},
   "source": [
    "### define functions"
   ]
  },
  {
   "cell_type": "code",
   "execution_count": 2,
   "id": "e4c4a555-ecd2-4355-9552-31d44572a160",
   "metadata": {},
   "outputs": [],
   "source": [
    "def returnJsonDict(key, url):\n",
    "    \"\"\"\n",
    "    take dictionary and return Json from url to key\n",
    "    variable\n",
    "    \"\"\"\n",
    "    # process url\n",
    "    try:\n",
    "        response = requests.get(url)\n",
    "        response.raise_for_status()  # Raise HTTPError for bad responses (4/5xx)\n",
    "        tmp = json.loads(response.text)\n",
    "    except requests.exceptions.RequestException as e:\n",
    "        print(f\"Request failed: {e}\")\n",
    "    except json.JSONDecodeError as e:\n",
    "        print(f\"JSON decode failed: {e}\")\n",
    "    except Exception as e:\n",
    "        print(f\"Unexpected error occurred: {e}\")\n",
    "\n",
    "    return tmp"
   ]
  },
  {
   "cell_type": "markdown",
   "id": "3e036938-fcf7-4464-84ad-2f1ae2e4adae",
   "metadata": {},
   "source": [
    "### set upstream table URLs and pull files"
   ]
  },
  {
   "cell_type": "code",
   "execution_count": 3,
   "id": "5ba95684-9e72-47b8-8874-2cbea9ba8759",
   "metadata": {},
   "outputs": [
    {
     "name": "stdout",
     "output_type": "stream",
     "text": [
      "APday\n",
      "OPmon\n",
      "OPmonLev\n",
      "CPU times: user 32.9 ms, sys: 11.5 ms, total: 44.5 ms\n",
      "Wall time: 940 ms\n"
     ]
    }
   ],
   "source": [
    "%%time\n",
    "urls = {\n",
    "    \"APday\": \"https://raw.githubusercontent.com/PCMDI/mip-cmor-tables/refs/heads/main/Tables/MIP_APday.json\",\n",
    "    \"OPmon\": \"https://raw.githubusercontent.com/PCMDI/mip-cmor-tables/refs/heads/main/Tables/MIP_OPmon.json\",\n",
    "    \"OPmonLev\": \"https://raw.githubusercontent.com/PCMDI/mip-cmor-tables/refs/heads/main/Tables/MIP_OPmonLev.json\",\n",
    "}\n",
    "for key in urls.keys():\n",
    "    print(key)\n",
    "    vars()[key] = returnJsonDict(key, urls[key])"
   ]
  },
  {
   "cell_type": "markdown",
   "id": "705e4c48-ce67-4fad-99a3-4b3e3dcc6c82",
   "metadata": {},
   "source": [
    "### APday - trim out redundant variables"
   ]
  },
  {
   "cell_type": "code",
   "execution_count": 4,
   "id": "2b0b6e06-e0ad-4021-acfa-4c5bbe2ba838",
   "metadata": {},
   "outputs": [],
   "source": [
    "keyList = list(APday[\"variable_entry\"].keys())\n",
    "keepKeys = [\"pr\", \"tas\"]\n",
    "for count, key in enumerate(keyList):\n",
    "    if key not in keepKeys:\n",
    "        APday[\"variable_entry\"].pop(key)"
   ]
  },
  {
   "cell_type": "markdown",
   "id": "5976810a-c7f7-465e-bc73-fc45cc3a80ce",
   "metadata": {},
   "source": [
    "### OPmon - trim out redundant variables"
   ]
  },
  {
   "cell_type": "code",
   "execution_count": 5,
   "id": "4b50173b-1206-4ae8-939e-ddaf34c64193",
   "metadata": {},
   "outputs": [],
   "source": [
    "keyList = list(OPmon[\"variable_entry\"].keys())\n",
    "keepKeys = [\"tos\"]\n",
    "for count, key in enumerate(keyList):\n",
    "    if key not in keepKeys:\n",
    "        OPmon[\"variable_entry\"].pop(key)\n",
    "# cleanup comments\n",
    "for key in OPmon[\"variable_entry\"].keys():\n",
    "    OPmon[\"variable_entry\"][key][\"comment\"] = OPmon[\"variable_entry\"][key][\n",
    "        \"comment\"\n",
    "    ].replace(\".\", \"\")"
   ]
  },
  {
   "cell_type": "markdown",
   "id": "890fa92e-dba6-4bc1-b56c-8b97a8e70f3a",
   "metadata": {},
   "source": [
    "### OPmonLev - trim out redundant variables"
   ]
  },
  {
   "cell_type": "code",
   "execution_count": 6,
   "id": "a04e0393-3f6f-4f94-afa5-c6750c4327bd",
   "metadata": {},
   "outputs": [],
   "source": [
    "keyList = list(OPmonLev[\"variable_entry\"].keys())\n",
    "keepKeys = [\"thetao\"]\n",
    "for count, key in enumerate(keyList):\n",
    "    if key not in keepKeys:\n",
    "        OPmonLev[\"variable_entry\"].pop(key)\n",
    "# cleanup comments\n",
    "for key in OPmonLev[\"variable_entry\"].keys():\n",
    "    OPmonLev[\"variable_entry\"][key][\"comment\"] = OPmonLev[\"variable_entry\"][key][\n",
    "        \"comment\"\n",
    "    ].replace(\".\", \"\")"
   ]
  },
  {
   "cell_type": "markdown",
   "id": "deacbaaf-d821-4b3d-b7d7-040552c50c55",
   "metadata": {},
   "source": [
    "### Header update notes"
   ]
  },
  {
   "cell_type": "code",
   "execution_count": 7,
   "id": "603d03c4-bd4b-44a9-8b41-cf5e6bc4eb56",
   "metadata": {},
   "outputs": [
    {
     "data": {
      "text/plain": [
       "'\\n\"Header\": {\\n    **** MOVE TO CV.json FILE: \"data_specs_version\": \"CMIP_specs7.0.0.0-alpha\",\\n    **** MOVE TO CV.json FILE: \"mip_era\": \"CMIP6\",\\n    **** MOVE TO CV.json FILE: \"approx_interval\": \"30.00000\",\\n    \"checksum\":\"\", **** New Header entry will contain md5 checksum value\\n    \"cmor_version\": \"3.10\",\\n    \"table_id\": \"atmos\",\\n    \"realm\": \"atmos\", **** Sets realm default value, overridden by modeling_realm attribute for individual variables\\n    \"table_date\":\"2025-02-14\",\\n    \"missing_value\": \"1e20\",\\n    \"int_missing_value\": \"-999\",\\n    \"product\": \"model-output\",\\n    \"generic_levels\": \"alevel alevhalf\",\\n    \"Conventions\": \"CF-1.11 CMIP-7alpha???\"\\n    -\"type\":\"real\", **** This and following attributes are default values, overridden for individual variables\\n    -\"positive\":\"\",\\n    -\"valid_min\":\"\",\\n    -\"valid_max\":\"\",\\n    -\"ok_min_mean_abs\":\"\",\\n    -\"ok_max_mean_abs\":\"\",\\n},\\n'"
      ]
     },
     "execution_count": 7,
     "metadata": {},
     "output_type": "execute_result"
    }
   ],
   "source": [
    "# Karl notes https://github.com/PCMDI/cmor/issues/762#issuecomment-2673038397\n",
    "\"\"\"\n",
    "\"Header\": {\n",
    "    **** MOVE TO CV.json FILE: \"data_specs_version\": \"CMIP_specs7.0.0.0-alpha\",\n",
    "    **** MOVE TO CV.json FILE: \"mip_era\": \"CMIP6\",\n",
    "    **** MOVE TO CV.json FILE: \"approx_interval\": \"30.00000\",\n",
    "    \"checksum\":\"\", **** New Header entry will contain md5 checksum value\n",
    "    \"cmor_version\": \"3.10\",\n",
    "    \"table_id\": \"atmos\",\n",
    "    \"realm\": \"atmos\", **** Sets realm default value, overridden by modeling_realm attribute for individual variables\n",
    "    \"table_date\":\"2025-02-14\",\n",
    "    \"missing_value\": \"1e20\",\n",
    "    \"int_missing_value\": \"-999\",\n",
    "    \"product\": \"model-output\",\n",
    "    \"generic_levels\": \"alevel alevhalf\",\n",
    "    \"Conventions\": \"CF-1.11 CMIP-7alpha???\"\n",
    "    -\"type\":\"real\", **** This and following attributes are default values, overridden for individual variables\n",
    "    -\"positive\":\"\",\n",
    "    -\"valid_min\":\"\",\n",
    "    -\"valid_max\":\"\",\n",
    "    -\"ok_min_mean_abs\":\"\",\n",
    "    -\"ok_max_mean_abs\":\"\",\n",
    "},\n",
    "\"\"\""
   ]
  },
  {
   "cell_type": "markdown",
   "id": "4f775cbb-e8e4-41de-b0c8-d82c7cf4e3f0",
   "metadata": {},
   "source": [
    "### update Headers"
   ]
  },
  {
   "cell_type": "code",
   "execution_count": 8,
   "id": "58ce2441-d389-4921-9af2-a305b85d0e88",
   "metadata": {},
   "outputs": [],
   "source": [
    "for table in [\"APday\", \"OPmon\", \"OPmonLev\"]:\n",
    "    tmp = eval(table)\n",
    "    # drop keys - move to Project_CV.json\n",
    "    tmp[\"Header\"].pop(\"approx_interval\")\n",
    "    tmp[\"Header\"].pop(\"data_specs_version\")\n",
    "    # sort by keys\n",
    "    tmp[\"Header\"][\"checksum\"] = \"\"\n",
    "    sorted_dict = dict(sorted(tmp.items()))\n",
    "    # update entries\n",
    "    tmp[\"Header\"][\"Conventions\"] = \"CF-1.11 CMIP-7.0.0.0\"\n",
    "    tmp[\"Header\"][\"cmor_version\"] = \"3.10\"\n",
    "    tmp[\"Header\"][\"table_id\"] = \"atmos2d\"\n",
    "    # realm specific\n",
    "    if table == \"APday\":\n",
    "        tmp[\"Header\"][\n",
    "            \"generic_levels\"\n",
    "        ] = \"alevel alevhalf\"  # relevant for atmos variables\n",
    "        tmp[\"Header\"][\n",
    "            \"realm\"\n",
    "        ] = \"atmos\"  # Sets realm default value, overridden by modeling_realm attribute for individual variables\n",
    "    elif table == \"OPmon\":\n",
    "        tmp[\"Header\"][\n",
    "            \"realm\"\n",
    "        ] = \"ocean\"  # Sets realm default value, overridden by modeling_realm attribute for individual variables\n",
    "    elif table == \"OPmonLev\":\n",
    "        tmp[\"Header\"][\n",
    "            \"generic_levels\"\n",
    "        ] = \"olevel olevhalf\"  # relevant for ocean variables\n",
    "        tmp[\"Header\"][\n",
    "            \"realm\"\n",
    "        ] = \"ocean\"  # Sets realm default value, overridden by modeling_realm attribute for individual variables\n",
    "    tmp[\"Header\"][\"table_date\"] = datetime.datetime.now().strftime(\"%Y-%m-%d\")\n",
    "    tmp[\"Header\"][\"missing_value\"] = \"1e20\"\n",
    "    tmp[\"Header\"][\"int_missing_value\"] = \"-999\"\n",
    "    tmp[\"Header\"][\"product\"] = \"model-output\"\n",
    "    tmp[\"Header\"][\n",
    "        \"type\"\n",
    "    ] = \"real\"  # This and following attributes are default values, overridden for individual variables\n",
    "    tmp[\"Header\"][\"positive\"] = \"\"\n",
    "    tmp[\"Header\"][\"valid_min\"] = \"\"\n",
    "    tmp[\"Header\"][\"valid_max\"] = \"\"\n",
    "    tmp[\"Header\"][\"ok_min_mean_abs\"] = \"\"\n",
    "    tmp[\"Header\"][\"ok_max_mean_abs\"] = \"\"\n",
    "    # and once entries updated, generate checksum, add back in and write\n",
    "    dictStr = json.dumps(tmp, sort_keys=True)\n",
    "    tmp[\"Header\"][\"checksum\"] = hashlib.md5(dictStr.encode(\"utf8\")).hexdigest()"
   ]
  },
  {
   "cell_type": "code",
   "execution_count": 9,
   "id": "83c0cf12-95d2-404e-b439-9a2c8e86de9c",
   "metadata": {},
   "outputs": [
    {
     "data": {
      "text/plain": [
       "{'Header': {'Conventions': 'CF-1.11 CMIP-7.0.0.0',\n",
       "  'checksum': '707fcfc8d9429acb47db0a00685b6901',\n",
       "  'cmor_version': '3.10',\n",
       "  'generic_levels': 'alevel alevhalf',\n",
       "  'int_missing_value': '-999',\n",
       "  'missing_value': '1e20',\n",
       "  'product': 'model-output',\n",
       "  'table_date': '2025-03-05',\n",
       "  'table_id': 'atmos2d',\n",
       "  'realm': 'atmos',\n",
       "  'type': 'real',\n",
       "  'positive': '',\n",
       "  'valid_min': '',\n",
       "  'valid_max': '',\n",
       "  'ok_min_mean_abs': '',\n",
       "  'ok_max_mean_abs': ''},\n",
       " 'variable_entry': {'pr_tavg-u-hxy-u': {'cell_measures': 'area: areacella',\n",
       "   'cell_methods': 'area: time: mean',\n",
       "   'comment': 'includes both liquid and solid phases',\n",
       "   'dimensions': ['longitude', 'latitude', 'time'],\n",
       "   'out_name': 'pr',\n",
       "   'standard_name': 'precipitation_flux',\n",
       "   'units': 'kg m-2 s-1',\n",
       "   'brand_description': 'precipitation flux: time means reported on a 2-d horizontal grid',\n",
       "   'variable_title': 'Precipitation',\n",
       "   'realm': ['atmos', 'ocean']},\n",
       "  'tas_tavg-h2m-hxy-u': {'cell_measures': 'area: areacella',\n",
       "   'cell_methods': 'area: time: mean',\n",
       "   'comment': 'near-surface (usually, 2 meter) air temperature',\n",
       "   'dimensions': ['longitude', 'latitude', 'time', 'height2m'],\n",
       "   'ok_max_mean_abs': 330.0,\n",
       "   'ok_min_mean_abs': -30.0,\n",
       "   'out_name': 'tas',\n",
       "   'standard_name': 'air_temperature',\n",
       "   'units': 'K',\n",
       "   'valid_max': 350.0,\n",
       "   'valid_min': 240.0,\n",
       "   'brand_description': 'air temperature: time means at a nominal height of 2 m reported on a 2-d horizontal grid',\n",
       "   'variable_title': 'Near-Surface Air Temperature'}}}"
      ]
     },
     "execution_count": 9,
     "metadata": {},
     "output_type": "execute_result"
    }
   ],
   "source": [
    "# remap to branded_variable\n",
    "# <root name>_<temporalLabelDD>-<verticalLabelDD>-<horizontalLabelDD>-<areaLabelDD>\n",
    "# pr\n",
    "brandedVariable = \"pr_tavg-u-hxy-u\"\n",
    "APday[\"variable_entry\"][brandedVariable] = APday[\"variable_entry\"][\n",
    "    \"pr\"\n",
    "]  # rename pr -> pr_tavg-u-hxy-u\n",
    "APday[\"variable_entry\"].pop(\"pr\")  # remove pr from dictionary\n",
    "APday[\"variable_entry\"][brandedVariable][\"brand_description\"] = \" \".join(\n",
    "    [\"precipitation flux: time means\", \"reported on a 2-d horizontal grid\"]\n",
    ")\n",
    "APday[\"variable_entry\"][brandedVariable][\"variable_title\"] = APday[\"variable_entry\"][\n",
    "    brandedVariable\n",
    "][\"long_name\"]\n",
    "APday[\"variable_entry\"][brandedVariable][\"realm\"] = [\"atmos\", \"ocean\"]\n",
    "# remove user provided\n",
    "APday[\"variable_entry\"][brandedVariable].pop(\"frequency\")\n",
    "# remove redundant\n",
    "APday[\"variable_entry\"][brandedVariable].pop(\"long_name\")\n",
    "APday[\"variable_entry\"][brandedVariable].pop(\"modeling_realm\")\n",
    "APday[\"variable_entry\"][brandedVariable].pop(\"ok_max_mean_abs\")\n",
    "APday[\"variable_entry\"][brandedVariable].pop(\"ok_min_mean_abs\")\n",
    "APday[\"variable_entry\"][brandedVariable].pop(\"positive\")  # only relevant for fluxes\n",
    "APday[\"variable_entry\"][brandedVariable].pop(\"type\")\n",
    "APday[\"variable_entry\"][brandedVariable].pop(\"valid_max\")\n",
    "APday[\"variable_entry\"][brandedVariable].pop(\"valid_min\")\n",
    "# tas\n",
    "brandedVariable = \"tas_tavg-h2m-hxy-u\"\n",
    "APday[\"variable_entry\"][brandedVariable] = APday[\"variable_entry\"][\n",
    "    \"tas\"\n",
    "]  # rename tas -> tas_tavg-h2m-hxy-u\n",
    "APday[\"variable_entry\"].pop(\"tas\")  # remove tas from dictionary\n",
    "APday[\"variable_entry\"][brandedVariable][\"valid_max\"] = 350.0\n",
    "APday[\"variable_entry\"][brandedVariable][\"valid_min\"] = 240.0\n",
    "APday[\"variable_entry\"][brandedVariable][\"brand_description\"] = \" \".join(\n",
    "    [\n",
    "        \"air temperature: time means at\",\n",
    "        \"a nominal height of 2 m reported\",\n",
    "        \"on a 2-d horizontal grid\",\n",
    "    ]\n",
    ")\n",
    "APday[\"variable_entry\"][brandedVariable][\"variable_title\"] = APday[\"variable_entry\"][\n",
    "    brandedVariable\n",
    "][\"long_name\"]\n",
    "# define missing entries\n",
    "APday[\"variable_entry\"][brandedVariable][\"ok_max_mean_abs\"] = 330.0\n",
    "APday[\"variable_entry\"][brandedVariable][\"ok_min_mean_abs\"] = -30.0\n",
    "# remove user provided\n",
    "APday[\"variable_entry\"][brandedVariable].pop(\"frequency\")\n",
    "# remove redundant\n",
    "APday[\"variable_entry\"][brandedVariable].pop(\"long_name\")\n",
    "APday[\"variable_entry\"][brandedVariable].pop(\"modeling_realm\")\n",
    "APday[\"variable_entry\"][brandedVariable].pop(\"positive\")  # only relevant for fluxes\n",
    "APday[\"variable_entry\"][brandedVariable].pop(\"type\")\n",
    "APday"
   ]
  },
  {
   "cell_type": "code",
   "execution_count": 10,
   "id": "86dfd8b6-2709-4ac7-97ec-b3846b392ad0",
   "metadata": {},
   "outputs": [
    {
     "data": {
      "text/plain": [
       "{'Header': {'Conventions': 'CF-1.11 CMIP-7.0.0.0',\n",
       "  'checksum': '43f757b1765c340a6c04d1fd301e4956',\n",
       "  'cmor_version': '3.10',\n",
       "  'generic_levels': '',\n",
       "  'int_missing_value': '-999',\n",
       "  'missing_value': '1e20',\n",
       "  'product': 'model-output',\n",
       "  'table_date': '2025-03-05',\n",
       "  'table_id': 'ocean2d',\n",
       "  'realm': 'ocean',\n",
       "  'type': 'real',\n",
       "  'positive': '',\n",
       "  'valid_min': '',\n",
       "  'valid_max': '',\n",
       "  'ok_min_mean_abs': '',\n",
       "  'ok_max_mean_abs': ''},\n",
       " 'variable_entry': {'tos_tavg-u-hxy-sea': {'cell_measures': 'area: areacello',\n",
       "   'cell_methods': 'area: mean where sea time: mean',\n",
       "   'comment': 'Temperature of upper boundary of the liquid ocean, including temperatures below sea-ice and floating ice shelves',\n",
       "   'dimensions': ['longitude', 'latitude', 'time'],\n",
       "   'ok_max_mean_abs': 50.0,\n",
       "   'ok_min_mean_abs': -3.0,\n",
       "   'out_name': 'tos',\n",
       "   'standard_name': 'sea_surface_temperature',\n",
       "   'units': 'degC',\n",
       "   'valid_max': 100.0,\n",
       "   'valid_min': -50.0,\n",
       "   'brand_description': 'sea surface temperature: time means reported on a 2-d horizontal grid where sea',\n",
       "   'variable_title': 'Sea Surface Temperature'}}}"
      ]
     },
     "execution_count": 10,
     "metadata": {},
     "output_type": "execute_result"
    }
   ],
   "source": [
    "# remap to branded_variable\n",
    "# <root name>_<temporalLabelDD>-<verticalLabelDD>-<horizontalLabelDD>-<areaLabelDD>\n",
    "brandedVariable = \"tos_tavg-u-hxy-sea\"\n",
    "OPmon[\"variable_entry\"][brandedVariable] = OPmon[\"variable_entry\"][\n",
    "    \"tos\"\n",
    "]  # rename tos -> tos_tavg-u-hxy-sea\n",
    "OPmon[\"variable_entry\"].pop(\"tos\")  # remove tos from dictionary\n",
    "OPmon[\"variable_entry\"][brandedVariable][\"valid_max\"] = 100.0\n",
    "OPmon[\"variable_entry\"][brandedVariable][\"valid_min\"] = -50.0\n",
    "OPmon[\"variable_entry\"][brandedVariable][\"brand_description\"] = \" \".join(\n",
    "    [\n",
    "        \"sea surface temperature: time\",\n",
    "        \"means reported on a 2-d\",\n",
    "        \"horizontal grid where sea\",\n",
    "    ]\n",
    ")\n",
    "OPmon[\"variable_entry\"][brandedVariable][\"variable_title\"] = OPmon[\"variable_entry\"][\n",
    "    brandedVariable\n",
    "][\"long_name\"]\n",
    "# define missing entries\n",
    "OPmon[\"variable_entry\"][brandedVariable][\"ok_max_mean_abs\"] = 50.0\n",
    "OPmon[\"variable_entry\"][brandedVariable][\"ok_min_mean_abs\"] = -3.0\n",
    "# remove user provided\n",
    "OPmon[\"variable_entry\"][brandedVariable].pop(\"frequency\")\n",
    "# remove redundant\n",
    "OPmon[\"variable_entry\"][brandedVariable].pop(\"long_name\")\n",
    "OPmon[\"variable_entry\"][brandedVariable].pop(\"type\")\n",
    "OPmon[\"variable_entry\"][brandedVariable].pop(\"modeling_realm\")\n",
    "OPmon[\"variable_entry\"][brandedVariable].pop(\"positive\")  # only relevant for fluxes\n",
    "# update table_id\n",
    "OPmon[\"Header\"][\"table_id\"] = \"ocean2d\"\n",
    "OPmon"
   ]
  },
  {
   "cell_type": "code",
   "execution_count": 11,
   "id": "5ad8f6c6-d3b9-4ac9-a814-7893635fae3a",
   "metadata": {},
   "outputs": [
    {
     "data": {
      "text/plain": [
       "{'Header': {'Conventions': 'CF-1.11 CMIP-7.0.0.0',\n",
       "  'checksum': '7e4e573c478cce81586a1ebe8969a53a',\n",
       "  'cmor_version': '3.10',\n",
       "  'generic_levels': 'olevel olevhalf',\n",
       "  'int_missing_value': '-999',\n",
       "  'missing_value': '1e20',\n",
       "  'product': 'model-output',\n",
       "  'table_date': '2025-03-05',\n",
       "  'table_id': 'oceanLev',\n",
       "  'realm': 'ocean',\n",
       "  'type': 'real',\n",
       "  'positive': '',\n",
       "  'valid_min': '',\n",
       "  'valid_max': '',\n",
       "  'ok_min_mean_abs': '',\n",
       "  'ok_max_mean_abs': ''},\n",
       " 'variable_entry': {'thetao_tavg-l-hxy-sea': {'cell_measures': 'area: areacello volume: volcello',\n",
       "   'cell_methods': 'area: mean where sea time: mean',\n",
       "   'comment': 'Diagnostic should be contributed even for models using conservative temperature as prognostic field',\n",
       "   'dimensions': ['longitude', 'latitude', 'olevel', 'time'],\n",
       "   'modeling_realm': ['ocean'],\n",
       "   'ok_max_mean_abs': 50.0,\n",
       "   'ok_min_mean_abs': -3.0,\n",
       "   'out_name': 'thetao',\n",
       "   'standard_name': 'sea_water_potential_temperature',\n",
       "   'units': 'degC',\n",
       "   'valid_max': 100.0,\n",
       "   'valid_min': -50.0,\n",
       "   'brand_description': 'sea water potential temperature: time means provided on multiple model levels and reported on a 2-d horizontal grid where sea',\n",
       "   'variable_title': 'Sea Water Potential Temperature'}}}"
      ]
     },
     "execution_count": 11,
     "metadata": {},
     "output_type": "execute_result"
    }
   ],
   "source": [
    "# remap to branded_variable\n",
    "# <root name>_<temporalLabelDD>-<verticalLabelDD>-<horizontalLabelDD>-<areaLabelDD>\n",
    "brandedVariable = \"thetao_tavg-l-hxy-sea\"\n",
    "OPmonLev[\"variable_entry\"][brandedVariable] = OPmonLev[\"variable_entry\"][\n",
    "    \"thetao\"\n",
    "]  # rename thetao -> thetao-tavg-l-hxy-u\n",
    "OPmonLev[\"variable_entry\"].pop(\"thetao\")  # remove pr from dictionary\n",
    "OPmonLev[\"variable_entry\"][brandedVariable][\"valid_max\"] = 100.0\n",
    "OPmonLev[\"variable_entry\"][brandedVariable][\"valid_min\"] = -50.0\n",
    "OPmonLev[\"variable_entry\"][brandedVariable][\"brand_description\"] = \" \".join(\n",
    "    [\n",
    "        \"sea water potential temperature:\",\n",
    "        \"time means provided on multiple\",\n",
    "        \"model levels and reported on a\",\n",
    "        \"2-d horizontal grid where sea\",\n",
    "    ]\n",
    ")\n",
    "OPmonLev[\"variable_entry\"][brandedVariable][\"variable_title\"] = OPmonLev[\n",
    "    \"variable_entry\"\n",
    "][brandedVariable][\"long_name\"]\n",
    "# define missing entries\n",
    "OPmonLev[\"variable_entry\"][brandedVariable][\"ok_max_mean_abs\"] = 50.0\n",
    "OPmonLev[\"variable_entry\"][brandedVariable][\"ok_min_mean_abs\"] = -3.0\n",
    "# remove user provided\n",
    "OPmonLev[\"variable_entry\"][brandedVariable].pop(\"frequency\")\n",
    "# remove redundant\n",
    "OPmonLev[\"variable_entry\"][brandedVariable].pop(\"long_name\")\n",
    "OPmonLev[\"variable_entry\"][brandedVariable].pop(\"type\")\n",
    "OPmonLev[\"variable_entry\"][brandedVariable].pop(\"positive\")  # only relevant for fluxes\n",
    "# update table_id\n",
    "OPmonLev[\"Header\"][\"table_id\"] = \"oceanLev\"\n",
    "OPmonLev"
   ]
  },
  {
   "cell_type": "markdown",
   "id": "23586913-4004-48d4-963b-17844b76656a",
   "metadata": {},
   "source": [
    "### create CMIP7_CVs.json"
   ]
  },
  {
   "cell_type": "code",
   "execution_count": 12,
   "id": "52db832d-4c6d-4990-9bc4-e84d84646d48",
   "metadata": {},
   "outputs": [
    {
     "name": "stdout",
     "output_type": "stream",
     "text": [
      "CV\n",
      "CPU times: user 17.1 ms, sys: 4.44 ms, total: 21.6 ms\n",
      "Wall time: 295 ms\n"
     ]
    }
   ],
   "source": [
    "%%time\n",
    "# get CMIP6_CVs\n",
    "urls = {\n",
    "    \"CV\": \"https://raw.githubusercontent.com/PCMDI/cmip6-cmor-tables/refs/heads/main/Tables/CMIP6_CV.json\",\n",
    "}\n",
    "for key in urls.keys():\n",
    "    print(key)\n",
    "    vars()[key] = returnJsonDict(key, urls[key])"
   ]
  },
  {
   "cell_type": "markdown",
   "id": "22409b15-69d7-4de9-b401-04c1b7aa4129",
   "metadata": {},
   "source": [
    "### CVs - trim out redundant entries"
   ]
  },
  {
   "cell_type": "code",
   "execution_count": 13,
   "id": "c43f30d5-19e1-44c6-a732-6274b09433a5",
   "metadata": {},
   "outputs": [],
   "source": [
    "keyList = list(CV[\"CV\"].keys())\n",
    "keepKeys = [\n",
    "    \"frequency\",\n",
    "    \"grid_label\",\n",
    "    \"license\",\n",
    "    \"product\",\n",
    "    \"realm\",\n",
    "    \"source_type\",\n",
    "    \"tracking_id\",\n",
    "]\n",
    "for count, key in enumerate(keyList):\n",
    "    if key not in keepKeys:\n",
    "        CV[\"CV\"].pop(key)"
   ]
  },
  {
   "cell_type": "markdown",
   "id": "f6464eca-4084-4703-915d-0adae6cd0195",
   "metadata": {},
   "source": [
    "### CVs - cleanup"
   ]
  },
  {
   "cell_type": "code",
   "execution_count": 14,
   "id": "d95604b6-8afe-4749-9d14-9de2fa644f54",
   "metadata": {},
   "outputs": [],
   "source": [
    "# frequency\n",
    "keepKeys = [\"1hr\", \"1hrCM\", \"3hr\", \"6hr\", \"day\", \"dec\", \"fx\", \"mon\", \"monC\", \"yr\"]\n",
    "keyList = list(CV[\"CV\"][\"frequency\"].keys())\n",
    "for count, key in enumerate(keyList):\n",
    "    if key not in keepKeys:\n",
    "        CV[\"CV\"][\"frequency\"].pop(key)\n",
    "# grid_label\n",
    "keepKeys = [\"gm\", \"gn\", \"gna\", \"gng\", \"gnz\", \"gr\", \"gra\", \"grg\", \"grz\"]\n",
    "keyList = list(CV[\"CV\"][\"grid_label\"].keys())\n",
    "for count, key in enumerate(keyList):\n",
    "    if key not in keepKeys:\n",
    "        CV[\"CV\"][\"grid_label\"].pop(key)\n",
    "# license\n",
    "CV[\"CV\"][\"license\"][0] = CV[\"CV\"][\"license\"][0].replace(\"CMIP6\", \"CMIP7\")"
   ]
  },
  {
   "cell_type": "markdown",
   "id": "a189bafa-4747-402a-84e9-8a7f3ee39111",
   "metadata": {},
   "source": [
    "### frequency"
   ]
  },
  {
   "cell_type": "code",
   "execution_count": 15,
   "id": "13b25f53-6b7e-4aa0-89bb-9b4ebea7ab07",
   "metadata": {},
   "outputs": [],
   "source": [
    "# remap approx_interval into frequency\n",
    "desc = CV[\"CV\"][\"frequency\"][\"1hr\"]\n",
    "CV[\"CV\"][\"frequency\"][\"1hr\"] = {}\n",
    "CV[\"CV\"][\"frequency\"][\"1hr\"][\"description\"] = desc\n",
    "CV[\"CV\"][\"frequency\"][\"1hr\"][\"approx_interval\"] = 1.0 / 24\n",
    "desc = CV[\"CV\"][\"frequency\"][\"1hrCM\"]\n",
    "CV[\"CV\"][\"frequency\"][\"1hrCM\"] = {}\n",
    "CV[\"CV\"][\"frequency\"][\"1hrCM\"][\"description\"] = desc\n",
    "CV[\"CV\"][\"frequency\"][\"1hrCM\"][\"approx_interval\"] = 1.0 / 24\n",
    "desc = CV[\"CV\"][\"frequency\"][\"3hr\"]\n",
    "CV[\"CV\"][\"frequency\"][\"3hr\"] = {}\n",
    "CV[\"CV\"][\"frequency\"][\"3hr\"][\"description\"] = desc\n",
    "CV[\"CV\"][\"frequency\"][\"3hr\"][\"approx_interval\"] = 1.0 / 8\n",
    "desc = CV[\"CV\"][\"frequency\"][\"6hr\"]\n",
    "CV[\"CV\"][\"frequency\"][\"6hr\"] = {}\n",
    "CV[\"CV\"][\"frequency\"][\"6hr\"][\"description\"] = desc\n",
    "CV[\"CV\"][\"frequency\"][\"6hr\"][\"approx_interval\"] = 1.0 / 4\n",
    "desc = CV[\"CV\"][\"frequency\"][\"day\"]\n",
    "CV[\"CV\"][\"frequency\"][\"day\"] = {}\n",
    "CV[\"CV\"][\"frequency\"][\"day\"][\"description\"] = desc\n",
    "CV[\"CV\"][\"frequency\"][\"day\"][\"approx_interval\"] = 1.0\n",
    "desc = CV[\"CV\"][\"frequency\"][\"mon\"]\n",
    "CV[\"CV\"][\"frequency\"][\"mon\"] = {}\n",
    "CV[\"CV\"][\"frequency\"][\"mon\"][\"description\"] = desc\n",
    "CV[\"CV\"][\"frequency\"][\"mon\"][\"approx_interval\"] = 30.0\n",
    "desc = CV[\"CV\"][\"frequency\"][\"monC\"]\n",
    "CV[\"CV\"][\"frequency\"][\"monC\"] = {}\n",
    "CV[\"CV\"][\"frequency\"][\"monC\"][\"description\"] = desc\n",
    "CV[\"CV\"][\"frequency\"][\"monC\"][\"approx_interval\"] = 30.0\n",
    "desc = CV[\"CV\"][\"frequency\"][\"yr\"]\n",
    "CV[\"CV\"][\"frequency\"][\"yr\"] = {}\n",
    "CV[\"CV\"][\"frequency\"][\"yr\"][\"description\"] = desc\n",
    "CV[\"CV\"][\"frequency\"][\"yr\"][\"approx_interval\"] = 365.0\n",
    "desc = CV[\"CV\"][\"frequency\"][\"dec\"]\n",
    "CV[\"CV\"][\"frequency\"][\"dec\"] = {}\n",
    "CV[\"CV\"][\"frequency\"][\"dec\"][\"description\"] = desc\n",
    "CV[\"CV\"][\"frequency\"][\"dec\"][\"approx_interval\"] = 3650.0\n",
    "# not included\n",
    "# CV[\"CV\"][\"approx_interval\"][\"subhr\"] = (\n",
    "#    1 / 24 / 4\n",
    "# )  # 15 mins (60/25) = 25 mins CMIP6, see also \"approx_interval_error\", \"approx_interval_warning\"\n",
    "# https://github.com/PCMDI/cmip6-cmor-tables/blob/e3644d3b814d632c4343b9ae5a59faf1ed20191c/Tables/CMIP6_CFsubhr.json#L11-L13"
   ]
  },
  {
   "cell_type": "markdown",
   "id": "419d3f59-ab69-451f-8316-ddedaa44f350",
   "metadata": {},
   "source": [
    "### other CVs"
   ]
  },
  {
   "cell_type": "code",
   "execution_count": 16,
   "id": "aa2647ce-e565-4f14-aaf0-a1dae6b12a80",
   "metadata": {},
   "outputs": [],
   "source": [
    "# other CVs\n",
    "CV[\"CV\"][\"data_specs_version\"] = \"CMIP-7.0.0.0\"\n",
    "CV[\"CV\"][\"mip_era\"] = \"CMIP7\"\n",
    "# adding additional https://github.com/PCMDI/cmor/pull/778#issuecomment-2695458244"
   ]
  },
  {
   "cell_type": "markdown",
   "id": "55762119-8ca6-478b-95af-9bafef7e5ee0",
   "metadata": {},
   "source": [
    "### required_global_attributes"
   ]
  },
  {
   "cell_type": "code",
   "execution_count": 17,
   "id": "f46f33e6-789e-4bff-a2c0-b0ccc343afa5",
   "metadata": {},
   "outputs": [
    {
     "name": "stdout",
     "output_type": "stream",
     "text": [
      "required_global_attributes\n"
     ]
    }
   ],
   "source": [
    "# required_global_attributes\n",
    "urls = {\n",
    "    \"required_global_attributes\": \"https://raw.githubusercontent.com/WCRP-CMIP/CMIP6Plus_CVs/refs/heads/main/CMIP6Plus_required_global_attributes.json\",\n",
    "}\n",
    "for key in urls.keys():\n",
    "    print(key)\n",
    "    vars()[key] = returnJsonDict(key, urls[key])\n",
    "# add missing entries\n",
    "required_global_attributes[\"required_global_attributes\"].extend(\n",
    "    [\n",
    "        \"region\",\n",
    "        \"branding_suffix\",\n",
    "        \"temporal_label\",\n",
    "        \"vertical_label\",\n",
    "        \"horizontal_label\",\n",
    "        \"area_label\",\n",
    "        \"host_collection\",\n",
    "        \"archive_id\",\n",
    "        \"branch_method\",\n",
    "        \"branch_time_in_child\",\n",
    "        \"branch_time_in_parent\",\n",
    "        \"parent_activity_id\",\n",
    "        \"parent_experiment_id\",\n",
    "        \"parent_mip_era\",\n",
    "        \"parent_source_id\",\n",
    "        \"parent_time_units\",\n",
    "        \"parent_variant_label\",\n",
    "    ]\n",
    ")\n",
    "# remove deprecated\n",
    "required_global_attributes[\"required_global_attributes\"].remove(\"sub_experiment\")\n",
    "required_global_attributes[\"required_global_attributes\"].remove(\"sub_experiment_id\")\n",
    "# sort\n",
    "required_global_attributes[\"required_global_attributes\"].sort()\n",
    "# redirect to CVs master dict\n",
    "CV[\"CV\"][\"required_global_attributes\"] = required_global_attributes[\n",
    "    \"required_global_attributes\"\n",
    "]"
   ]
  },
  {
   "cell_type": "markdown",
   "id": "d7360703-4359-42f7-83fd-7061a033bd32",
   "metadata": {},
   "source": [
    "### and adding the *_label element lists"
   ]
  },
  {
   "cell_type": "code",
   "execution_count": 18,
   "id": "c58668b7-aa6e-4c48-93e0-e4145ebe7465",
   "metadata": {},
   "outputs": [],
   "source": [
    "# pulled from Appendix F in https://docs.google.com/document/d/19jzecgymgiiEsTDzaaqeLP6pTvLT-NzCMaq-wu-QoOc/edit\n",
    "area_label = {\n",
    "    \"air\": \"air\",\n",
    "    \"cl\": \"cloud\",\n",
    "    \"ccl\": \"convective cloud\",\n",
    "    \"crp\": \"crops\",\n",
    "    \"fis\": \"floating ice shelf\",\n",
    "    \"gis\": \"grounded ice sheet\",\n",
    "    \"ifs\": \"ice free sea\",\n",
    "    \"is\": \"ice sheet\",\n",
    "    \"lnd\": \"land\",\n",
    "    \"li\": \"land ice\",\n",
    "    \"ng\": \"natural grasses\",\n",
    "    \"pst\": \"pasture\",\n",
    "    \"sea\": \"sea\",\n",
    "    \"si\": \"sea ice\",\n",
    "    \"simp\": \"sea ice melt pond\",\n",
    "    \"sir\": \"sea ice ridge\",\n",
    "    \"lus\": \"sector (auxiliary coordinate for land-use area types\",\n",
    "    \"shb\": \"shrubs\",\n",
    "    \"sn\": \"snow\",\n",
    "    \"scl\": \"stratiform cloud\",\n",
    "    \"tree\": \"trees\",\n",
    "    \"ufs\": \"unfrozen soil\",\n",
    "    \"veg\": \"vegetation\",  # we have crops, natural grasses, pasture, shrubs - vague should be removed\n",
    "    \"wl\": \"wetland\",\n",
    "    \"u\": 'unmasked (no \"where\" directive included in cell_methods)',\n",
    "}\n",
    "horizontal_label = {\n",
    "    \"hxy\": \"gridded\",\n",
    "    \"hy\": \"zonal mean\",\n",
    "    \"hxys\": \"site values\",\n",
    "    \"hys\": \"basin mean\",\n",
    "    \"ht\": \"labeled areas\",\n",
    "    \"hm\": \"horizontal mean\",\n",
    "}\n",
    "temporal_label = {\n",
    "    \"tstat\": \"statistic\",\n",
    "    \"tsum\": \"sum\",\n",
    "    \"tavg\": \"mean\",\n",
    "    \"tpt\": \"point\",\n",
    "    \"tclm\": \"climatology\",\n",
    "    \"tclmdc\": \"diurnal cycle climatology\",\n",
    "    \"ti\": \"time independent\",\n",
    "}\n",
    "vertical_label = {\n",
    "    \"l\": \"model level\",\n",
    "    \"rho\": \"density surface\",\n",
    "    \"h2m\": \"2m height\",\n",
    "    \"h10m\": \"10m height\",\n",
    "    \"h100m\": \"100m height\",\n",
    "    \"d10cm\": \"1cm depth\",\n",
    "    \"d1m\": \"1m depth\",\n",
    "    \"d0m\": \"surface\",\n",
    "    \"d100m\": \"100m depth\",\n",
    "    \"d300m\": \"300m depth\",\n",
    "    \"d700m\": \"700m depth\",\n",
    "    \"d2000m\": \"2000m depth\",\n",
    "    \"10hPa\": \"10 hPa\",\n",
    "    \"100hPa\": \"100 hPa\",\n",
    "    \"220hPa\": \"220 hPa\",\n",
    "    \"500hPa\": \"500 hPa\",\n",
    "    \"560hPa\": \"560 hPa\",\n",
    "    \"700hPa\": \"700 hPa\",\n",
    "    \"840hPa\": \"840 hPa\",\n",
    "    \"850hPa\": \"850 hPa\",\n",
    "    \"1000hPa\": \"1000 hPa\",\n",
    "    \"h16\": \"16 height levels\",\n",
    "    \"h40\": \"40 height levels\",\n",
    "    \"p3\": \"3 pressure levels\",\n",
    "    \"p4\": \"4 pressure levels\",\n",
    "    \"p8\": \"8 pressure levels\",\n",
    "    \"p7c\": \"7 pressure levels\",  # likely dupe\n",
    "    \"p7h\": \"7 pressure levels\",  # likely dupe\n",
    "    \"p19\": \"19 pressure levels\",\n",
    "    \"p27\": \"27 pressure levels\",\n",
    "    \"p39\": \"39 pressure levels\",\n",
    "    \"u\": \"unspecified (no vertical dimension)\",\n",
    "}\n",
    "# sort all\n",
    "area_label = dict(sorted(area_label.items()))\n",
    "horizontal_label = dict(sorted(horizontal_label.items()))\n",
    "temporal_label = dict(sorted(temporal_label.items()))\n",
    "vertical_label = dict(sorted(vertical_label.items()))\n",
    "# add to CV master dict\n",
    "CV[\"CV\"][\"branding_labels\"] = {}\n",
    "CV[\"CV\"][\"branding_labels\"][\"area_label\"] = area_label\n",
    "CV[\"CV\"][\"branding_labels\"][\"horizontal_label\"] = horizontal_label\n",
    "CV[\"CV\"][\"branding_labels\"][\"temporal_label\"] = temporal_label\n",
    "CV[\"CV\"][\"branding_labels\"][\"vertical_label\"] = vertical_label"
   ]
  },
  {
   "cell_type": "markdown",
   "id": "9878a457-1cbf-40ef-a0bd-78b5cf5f5ad6",
   "metadata": {},
   "source": [
    "### institution_id"
   ]
  },
  {
   "cell_type": "code",
   "execution_count": 19,
   "id": "ab87b256-f645-4a2d-89c4-d1256034b46b",
   "metadata": {},
   "outputs": [
    {
     "name": "stdout",
     "output_type": "stream",
     "text": [
      "institution_id\n"
     ]
    }
   ],
   "source": [
    "# institution_id\n",
    "urls = {\n",
    "    \"institution_id\": \"https://raw.githubusercontent.com/WCRP-CMIP/CMIP6_CVs/refs/heads/main/CMIP6_institution_id.json\",\n",
    "}\n",
    "for key in urls.keys():\n",
    "    print(key)\n",
    "    vars()[key] = returnJsonDict(key, urls[key])\n",
    "keepKeys = [\"PCMDI\"]\n",
    "keyList = list(institution_id[\"institution_id\"].keys())\n",
    "for count, key in enumerate(keyList):\n",
    "    if key not in keepKeys:\n",
    "        institution_id[\"institution_id\"].pop(key)\n",
    "CV[\"CV\"][\"institution_id\"] = institution_id[\"institution_id\"]"
   ]
  },
  {
   "cell_type": "markdown",
   "id": "8cdc7262-b5be-4ad8-a8c6-6761b6fc19f0",
   "metadata": {},
   "source": [
    "### experiment_id"
   ]
  },
  {
   "cell_type": "code",
   "execution_count": 20,
   "id": "ea5dd5be-692e-490e-a229-420a147f8f10",
   "metadata": {},
   "outputs": [
    {
     "name": "stdout",
     "output_type": "stream",
     "text": [
      "experiment_id\n"
     ]
    }
   ],
   "source": [
    "# experiment_id\n",
    "urls = {\n",
    "    \"experiment_id\": \"https://raw.githubusercontent.com/WCRP-CMIP/CMIP6_CVs/refs/heads/main/CMIP6_experiment_id.json\",\n",
    "}\n",
    "for key in urls.keys():\n",
    "    print(key)\n",
    "    vars()[key] = returnJsonDict(key, urls[key])\n",
    "keepKeys = [\"1pctCO2\"]\n",
    "keyList = list(experiment_id[\"experiment_id\"].keys())\n",
    "for count, key in enumerate(keyList):\n",
    "    if key not in keepKeys:\n",
    "        experiment_id[\"experiment_id\"].pop(key)\n",
    "CV[\"CV\"][\"experiment_id\"] = experiment_id[\"experiment_id\"]"
   ]
  },
  {
   "cell_type": "markdown",
   "id": "625ab2b0-b000-492b-b893-d956d504fc22",
   "metadata": {},
   "source": [
    "### source_id"
   ]
  },
  {
   "cell_type": "code",
   "execution_count": 21,
   "id": "95b036d8-6896-4099-98ca-f3a29ed58cff",
   "metadata": {},
   "outputs": [
    {
     "name": "stdout",
     "output_type": "stream",
     "text": [
      "source_id\n"
     ]
    }
   ],
   "source": [
    "# source_id\n",
    "urls = {\n",
    "    \"source_id\": \"https://raw.githubusercontent.com/WCRP-CMIP/CMIP6_CVs/refs/heads/main/CMIP6_source_id.json\",\n",
    "}\n",
    "for key in urls.keys():\n",
    "    print(key)\n",
    "    vars()[key] = returnJsonDict(key, urls[key])\n",
    "keepKeys = [\"PCMDI-test-1-0\"]\n",
    "keyList = list(source_id[\"source_id\"].keys())\n",
    "for count, key in enumerate(keyList):\n",
    "    if key not in keepKeys:\n",
    "        source_id[\"source_id\"].pop(key)\n",
    "CV[\"CV\"][\"source_id\"] = source_id[\"source_id\"]"
   ]
  },
  {
   "cell_type": "code",
   "execution_count": 22,
   "id": "4a7a2690-7da5-4c46-9f4e-1ffce90a7758",
   "metadata": {},
   "outputs": [],
   "source": [
    "# sort CV contents\n",
    "CV[\"CV\"] = dict(sorted(CV[\"CV\"].items()))"
   ]
  },
  {
   "cell_type": "markdown",
   "id": "29c8d62d-0c95-43dd-bb2b-985dcc9ce1f4",
   "metadata": {},
   "source": [
    "### write all files out"
   ]
  },
  {
   "cell_type": "code",
   "execution_count": 23,
   "id": "f3f1d01d-ed23-4c23-a883-2c05d36ae5b3",
   "metadata": {},
   "outputs": [
    {
     "name": "stdout",
     "output_type": "stream",
     "text": [
      "0 APday\n",
      "outPathAndFileName: ./CMIP7_atmos2d.json\n",
      "1 OPmon\n",
      "outPathAndFileName: ./CMIP7_ocean2d.json\n",
      "2 OPmonLev\n",
      "outPathAndFileName: ./CMIP7_oceanLev.json\n",
      "3 CV\n",
      "outPathAndFileName: ./CMIP7_CV.json\n"
     ]
    }
   ],
   "source": [
    "files = {\n",
    "    \"APday\": \"atmos2d\",\n",
    "    \"OPmon\": \"ocean2d\",\n",
    "    \"OPmonLev\": \"oceanLev\",\n",
    "    \"CV\": \"CV\",\n",
    "}\n",
    "for count, name in enumerate(files.keys()):\n",
    "    print(count, name)\n",
    "    dic = eval(name)\n",
    "    tableName = files[name]\n",
    "    # set outpath\n",
    "    outPath = \".\"\n",
    "    # write file\n",
    "    outFile = \"\".join([\"CMIP7_\", tableName, \".json\"])\n",
    "    outPathAndFileName = os.path.join(outPath, outFile)\n",
    "    print(\"outPathAndFileName:\", outPathAndFileName)\n",
    "    with open(outPathAndFileName, \"w\") as f:\n",
    "        json.dump(\n",
    "            dic, f, ensure_ascii=True, sort_keys=True, indent=4, separators=(\",\", \":\")\n",
    "        )"
   ]
  }
 ],
 "metadata": {
  "kernelspec": {
   "display_name": "Python 3 (ipykernel)",
   "language": "python",
   "name": "python3"
  },
  "language_info": {
   "codemirror_mode": {
    "name": "ipython",
    "version": 3
   },
   "file_extension": ".py",
   "mimetype": "text/x-python",
   "name": "python",
   "nbconvert_exporter": "python",
   "pygments_lexer": "ipython3",
   "version": "3.13.2"
  }
 },
 "nbformat": 4,
 "nbformat_minor": 5
}
