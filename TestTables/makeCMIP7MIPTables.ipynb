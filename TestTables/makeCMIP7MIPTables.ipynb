{
 "cells": [
  {
   "cell_type": "markdown",
   "id": "bf06a941-6e9b-4c27-abbc-5490790547bc",
   "metadata": {},
   "source": [
    "# Pull MIP table files; reformulate for CMOR 3.10\n",
    "<div style=\"text-align: right\">\n",
    "<p>\n",
    "    <img src=\"https://pcmdi.github.io/assets/PCMDI/199x65px-PCMDI-Logo-Text-rectangle.png\"\n",
    "         width=\"91\"\n",
    "         height=\"30\"\n",
    "         class=\"fixed-height-image\"\n",
    "         style=\"margin-right: 20px\"\n",
    "         title=\"Program for Climate Model Diagnosis and Intercomparison\"\n",
    "         alt=\"Program for Climate Model Diagnosis and Intercomparison\"\n",
    "    >&nbsp;\n",
    "    <img src=\"https://pcmdi.github.io/assets/LLNL/212px-LLNLiconPMS286-WHITEBACKGROUND.png\"\n",
    "         width=\"30\"\n",
    "         height=\"30\"\n",
    "         class=\"fixed-height-image\"\n",
    "         style=\"margin-right: 20px\"\n",
    "         title=\"Lawrence Livermore National Laboratory\"\n",
    "         alt=\"Lawrence Livermore National Laboratory\"\n",
    "    >&nbsp;\n",
    "    <img src=\"https://pcmdi.github.io/assets/DOE/459x127px-DOE-Logo_Color_TextOnly.png\"\n",
    "         width=\"108\"\n",
    "         height=\"30\"\n",
    "         class=\"fixed-height-image\"\n",
    "         style=\"margin-right: 20px\"\n",
    "         title=\"United States Department of Energy\"\n",
    "         alt=\"United States Department of Energy\"\n",
    "    >\n",
    "</p>\n",
    "</div>"
   ]
  },
  {
   "cell_type": "markdown",
   "id": "f4932c47-b1da-4bad-b3e6-3864bc9d8214",
   "metadata": {},
   "source": [
    "**Summary**\n",
    "\n",
    "This file pulls a CMIP6Plus/CMOR3.9.0-era MIP table files, strips out extraneous variables and saves the files for local use\n",
    "\n",
    "**Authors**\n",
    "\n",
    "Paul J. Durack ([durack1](https://github.com/durack1); [PCMDI](https://pcmdi.llnl.gov/), [Lawrence Livermore National Laboratory](https://www.llnl.gov/))\n",
    "\n",
    "**Notes**\n",
    "\n",
    "PJD 25 Feb 2025 - initiated<br>\n",
    "PJD 25 Feb 2025 - first pass at initial CMOR 3.10 test tables and CMIP7_CV.json<br>\n",
    "TODO:\n",
    "\n",
    "**Links**"
   ]
  },
  {
   "cell_type": "markdown",
   "id": "b8d32467-eba5-4e78-a3df-eb1c4c5d2899",
   "metadata": {},
   "source": [
    "### imports"
   ]
  },
  {
   "cell_type": "code",
   "execution_count": 1,
   "id": "bbcc47a3-5397-463b-8c81-91deaf36f9b2",
   "metadata": {},
   "outputs": [
    {
     "name": "stdout",
     "output_type": "stream",
     "text": [
      "CPU times: user 33.4 ms, sys: 18.7 ms, total: 52.2 ms\n",
      "Wall time: 66.8 ms\n"
     ]
    }
   ],
   "source": [
    "%%time\n",
    "import datetime\n",
    "import hashlib\n",
    "import json\n",
    "import os\n",
    "import requests"
   ]
  },
  {
   "cell_type": "markdown",
   "id": "3e036938-fcf7-4464-84ad-2f1ae2e4adae",
   "metadata": {},
   "source": [
    "### set upstream table URLs and pull files"
   ]
  },
  {
   "cell_type": "code",
   "execution_count": 6,
   "id": "5ba95684-9e72-47b8-8874-2cbea9ba8759",
   "metadata": {},
   "outputs": [
    {
     "name": "stdout",
     "output_type": "stream",
     "text": [
      "0 APday\n",
      "1 OPmon\n",
      "2 OPmonLev\n",
      "CPU times: user 19.6 ms, sys: 5.48 ms, total: 25.1 ms\n",
      "Wall time: 76.2 ms\n"
     ]
    }
   ],
   "source": [
    "%%time\n",
    "urls = {\n",
    "    \"APday\": \"https://raw.githubusercontent.com/PCMDI/mip-cmor-tables/refs/heads/main/Tables/MIP_APday.json\",\n",
    "    \"OPmon\": \"https://raw.githubusercontent.com/PCMDI/mip-cmor-tables/refs/heads/main/Tables/MIP_OPmon.json\",\n",
    "    \"OPmonLev\": \"https://raw.githubusercontent.com/PCMDI/mip-cmor-tables/refs/heads/main/Tables/MIP_OPmonLev.json\",\n",
    "}\n",
    "\n",
    "# loop through urls\n",
    "keys = urls.keys()\n",
    "for count, key in enumerate(keys):\n",
    "    print(count, key)\n",
    "    url = urls[key]\n",
    "    try:\n",
    "        response = requests.get(url)\n",
    "        response.raise_for_status()  # Raise HTTPError for bad responses (4/5xx)\n",
    "        vars()[key] = json.loads(response.text)\n",
    "    except requests.exceptions.RequestException as e:\n",
    "        print(f\"Request failed: {e}\")\n",
    "    except json.JSONDecodeError as e:\n",
    "        print(f\"JSON decode failed: {e}\")\n",
    "    except Exception as e:\n",
    "        print(f\"Unexpected error occurred: {e}\")"
   ]
  },
  {
   "cell_type": "markdown",
   "id": "705e4c48-ce67-4fad-99a3-4b3e3dcc6c82",
   "metadata": {},
   "source": [
    "### APday - trim out redundant variables"
   ]
  },
  {
   "cell_type": "code",
   "execution_count": 3,
   "id": "2b0b6e06-e0ad-4021-acfa-4c5bbe2ba838",
   "metadata": {},
   "outputs": [],
   "source": [
    "keyList = list(APday[\"variable_entry\"].keys())\n",
    "keepKeys = [\"pr\", \"tas\"]\n",
    "for count, key in enumerate(keyList):\n",
    "    if key not in keepKeys:\n",
    "        APday[\"variable_entry\"].pop(key)"
   ]
  },
  {
   "cell_type": "markdown",
   "id": "5976810a-c7f7-465e-bc73-fc45cc3a80ce",
   "metadata": {},
   "source": [
    "### OPmon - trim out redundant variables"
   ]
  },
  {
   "cell_type": "code",
   "execution_count": 4,
   "id": "4b50173b-1206-4ae8-939e-ddaf34c64193",
   "metadata": {},
   "outputs": [],
   "source": [
    "keyList = list(OPmon[\"variable_entry\"].keys())\n",
    "keepKeys = [\"tos\"]\n",
    "for count, key in enumerate(keyList):\n",
    "    if key not in keepKeys:\n",
    "        OPmon[\"variable_entry\"].pop(key)\n",
    "# cleanup comments\n",
    "for key in OPmon[\"variable_entry\"].keys():\n",
    "    OPmon[\"variable_entry\"][key][\"comment\"] = OPmon[\"variable_entry\"][key][\n",
    "        \"comment\"\n",
    "    ].replace(\".\", \"\")"
   ]
  },
  {
   "cell_type": "markdown",
   "id": "890fa92e-dba6-4bc1-b56c-8b97a8e70f3a",
   "metadata": {},
   "source": [
    "### OPmonLev - trim out redundant variables"
   ]
  },
  {
   "cell_type": "code",
   "execution_count": 5,
   "id": "a04e0393-3f6f-4f94-afa5-c6750c4327bd",
   "metadata": {},
   "outputs": [],
   "source": [
    "keyList = list(OPmonLev[\"variable_entry\"].keys())\n",
    "keepKeys = [\"thetao\"]\n",
    "for count, key in enumerate(keyList):\n",
    "    if key not in keepKeys:\n",
    "        OPmonLev[\"variable_entry\"].pop(key)\n",
    "# cleanup comments\n",
    "for key in OPmonLev[\"variable_entry\"].keys():\n",
    "    OPmonLev[\"variable_entry\"][key][\"comment\"] = OPmonLev[\"variable_entry\"][key][\n",
    "        \"comment\"\n",
    "    ].replace(\".\", \"\")"
   ]
  },
  {
   "cell_type": "markdown",
   "id": "deacbaaf-d821-4b3d-b7d7-040552c50c55",
   "metadata": {},
   "source": [
    "### Header update notes"
   ]
  },
  {
   "cell_type": "code",
   "execution_count": 6,
   "id": "603d03c4-bd4b-44a9-8b41-cf5e6bc4eb56",
   "metadata": {},
   "outputs": [
    {
     "data": {
      "text/plain": [
       "'\\n\"Header\": {\\n    **** MOVE TO CV.json FILE: \"data_specs_version\": \"CMIP_specs7.0.0.0-alpha\",\\n    **** MOVE TO CV.json FILE: \"mip_era\": \"CMIP6\",\\n    **** MOVE TO CV.json FILE: \"approx_interval\": \"30.00000\", \\n    \"checksum\":\"\", **** New Header entry will contain md5 checksum value\\n    \"cmor_version\": \"3.10\", \\n    \"table_id\": \"atmos\", \\n    \"realm\": \"atmos\", **** Sets realm default value, overridden by modeling_realm attribute for individual variables\\n    \"table_date\":\"2025-02-14\", \\n    \"missing_value\": \"1e20\", \\n    \"int_missing_value\": \"-999\", \\n    \"product\": \"model-output\", \\n    \"generic_levels\": \"alevel alevhalf\", \\n    \"Conventions\": \"CF-1.11 CMIP-7alpha???\"\\n    -\"type\":\"real\", **** This and following attributes are default values, overridden for individual variables\\n    -\"positive\":\"\",\\n    -\"valid_min\":\"\",\\n    -\"valid_max\":\"\",\\n    -\"ok_min_mean_abs\":\"\",\\n    -\"ok_max_mean_abs\":\"\",\\n},\\n'"
      ]
     },
     "execution_count": 6,
     "metadata": {},
     "output_type": "execute_result"
    }
   ],
   "source": [
    "# Karl notes https://github.com/PCMDI/cmor/issues/762#issuecomment-2673038397\n",
    "\"\"\"\n",
    "\"Header\": {\n",
    "    **** MOVE TO CV.json FILE: \"data_specs_version\": \"CMIP_specs7.0.0.0-alpha\",\n",
    "    **** MOVE TO CV.json FILE: \"mip_era\": \"CMIP6\",\n",
    "    **** MOVE TO CV.json FILE: \"approx_interval\": \"30.00000\", \n",
    "    \"checksum\":\"\", **** New Header entry will contain md5 checksum value\n",
    "    \"cmor_version\": \"3.10\", \n",
    "    \"table_id\": \"atmos\", \n",
    "    \"realm\": \"atmos\", **** Sets realm default value, overridden by modeling_realm attribute for individual variables\n",
    "    \"table_date\":\"2025-02-14\", \n",
    "    \"missing_value\": \"1e20\", \n",
    "    \"int_missing_value\": \"-999\", \n",
    "    \"product\": \"model-output\", \n",
    "    \"generic_levels\": \"alevel alevhalf\", \n",
    "    \"Conventions\": \"CF-1.11 CMIP-7alpha???\"\n",
    "    -\"type\":\"real\", **** This and following attributes are default values, overridden for individual variables\n",
    "    -\"positive\":\"\",\n",
    "    -\"valid_min\":\"\",\n",
    "    -\"valid_max\":\"\",\n",
    "    -\"ok_min_mean_abs\":\"\",\n",
    "    -\"ok_max_mean_abs\":\"\",\n",
    "},\n",
    "\"\"\""
   ]
  },
  {
   "cell_type": "markdown",
   "id": "4f775cbb-e8e4-41de-b0c8-d82c7cf4e3f0",
   "metadata": {},
   "source": [
    "### update Headers"
   ]
  },
  {
   "cell_type": "code",
   "execution_count": 7,
   "id": "58ce2441-d389-4921-9af2-a305b85d0e88",
   "metadata": {},
   "outputs": [],
   "source": [
    "for table in [\"APday\", \"OPmon\", \"OPmonLev\"]:\n",
    "    tmp = eval(table)\n",
    "    # drop keys - move to Project_CV.json\n",
    "    tmp[\"Header\"].pop(\"approx_interval\")\n",
    "    tmp[\"Header\"].pop(\"data_specs_version\")\n",
    "    # sort by keys\n",
    "    tmp[\"Header\"][\"checksum\"] = \"\"\n",
    "    sorted_dict = dict(sorted(tmp.items()))\n",
    "    # update entries\n",
    "    tmp[\"Header\"][\"Conventions\"] = \"CF-1.11 CMIP-7.0.0.0\"\n",
    "    tmp[\"Header\"][\"cmor_version\"] = \"3.10\"\n",
    "    tmp[\"Header\"][\"table_id\"] = \"atmos\"\n",
    "    # realm specific\n",
    "    if table == \"APday\":\n",
    "        tmp[\"Header\"][\n",
    "            \"generic_levels\"\n",
    "        ] = \"alevel alevhalf\"  # relevant for atmos variables\n",
    "        tmp[\"Header\"][\n",
    "            \"realm\"\n",
    "        ] = \"atmos\"  # Sets realm default value, overridden by modeling_realm attribute for individual variables\n",
    "    elif table == \"OPmon\":\n",
    "        tmp[\"Header\"][\n",
    "            \"realm\"\n",
    "        ] = \"ocean\"  # Sets realm default value, overridden by modeling_realm attribute for individual variables\n",
    "    elif table == \"OPmonLev\":\n",
    "        tmp[\"Header\"][\n",
    "            \"generic_levels\"\n",
    "        ] = \"olevel olevhalf\"  # relevant for ocean variables\n",
    "        tmp[\"Header\"][\n",
    "            \"realm\"\n",
    "        ] = \"ocean\"  # Sets realm default value, overridden by modeling_realm attribute for individual variables\n",
    "    tmp[\"Header\"][\"table_date\"] = datetime.datetime.now().strftime(\"%Y-%m-%d\")\n",
    "    tmp[\"Header\"][\"missing_value\"] = \"1e20\"\n",
    "    tmp[\"Header\"][\"int_missing_value\"] = \"-999\"\n",
    "    tmp[\"Header\"][\"product\"] = \"model-output\"\n",
    "    tmp[\"Header\"][\n",
    "        \"type\"\n",
    "    ] = \"real\"  # This and following attributes are default values, overridden for individual variables\n",
    "    tmp[\"Header\"][\"positive\"] = \"\"\n",
    "    tmp[\"Header\"][\"valid_min\"] = \"\"\n",
    "    tmp[\"Header\"][\"valid_max\"] = \"\"\n",
    "    tmp[\"Header\"][\"ok_min_mean_abs\"] = \"\"\n",
    "    tmp[\"Header\"][\"ok_max_mean_abs\"] = \"\"\n",
    "    # and once entries updated, generate checksum, add back in and write\n",
    "    dictStr = json.dumps(tmp, sort_keys=True)\n",
    "    tmp[\"Header\"][\"checksum\"] = hashlib.md5(dictStr.encode(\"utf8\")).hexdigest()"
   ]
  },
  {
   "cell_type": "code",
   "execution_count": 8,
   "id": "111f5bac-13d1-44cb-90b1-625728d17474",
   "metadata": {},
   "outputs": [
    {
     "data": {
      "text/plain": [
       "{'Header': {'Conventions': 'CF-1.11 CMIP-7.0.0.0',\n",
       "  'checksum': '2256e1691dea97aedc111ebba90b81dc',\n",
       "  'cmor_version': '3.10',\n",
       "  'generic_levels': 'alevel alevhalf',\n",
       "  'int_missing_value': '-999',\n",
       "  'missing_value': '1e20',\n",
       "  'product': 'model-output',\n",
       "  'table_date': '2025-02-25',\n",
       "  'table_id': 'atmos',\n",
       "  'realm': 'atmos',\n",
       "  'type': 'real',\n",
       "  'positive': '',\n",
       "  'valid_min': '',\n",
       "  'valid_max': '',\n",
       "  'ok_min_mean_abs': '',\n",
       "  'ok_max_mean_abs': ''},\n",
       " 'variable_entry': {'pr': {'cell_measures': 'area: areacella',\n",
       "   'cell_methods': 'area: time: mean',\n",
       "   'comment': 'includes both liquid and solid phases',\n",
       "   'dimensions': ['longitude', 'latitude', 'time'],\n",
       "   'frequency': 'day',\n",
       "   'long_name': 'Precipitation',\n",
       "   'modeling_realm': ['atmos'],\n",
       "   'ok_max_mean_abs': '',\n",
       "   'ok_min_mean_abs': '',\n",
       "   'out_name': 'pr',\n",
       "   'positive': '',\n",
       "   'standard_name': 'precipitation_flux',\n",
       "   'type': 'real',\n",
       "   'units': 'kg m-2 s-1',\n",
       "   'valid_max': '',\n",
       "   'valid_min': ''},\n",
       "  'tas': {'cell_measures': 'area: areacella',\n",
       "   'cell_methods': 'area: time: mean',\n",
       "   'comment': 'near-surface (usually, 2 meter) air temperature',\n",
       "   'dimensions': ['longitude', 'latitude', 'time', 'height2m'],\n",
       "   'frequency': 'day',\n",
       "   'long_name': 'Near-Surface Air Temperature',\n",
       "   'modeling_realm': ['atmos'],\n",
       "   'ok_max_mean_abs': '',\n",
       "   'ok_min_mean_abs': '',\n",
       "   'out_name': 'tas',\n",
       "   'positive': '',\n",
       "   'standard_name': 'air_temperature',\n",
       "   'type': 'real',\n",
       "   'units': 'K',\n",
       "   'valid_max': '',\n",
       "   'valid_min': ''}}}"
      ]
     },
     "execution_count": 8,
     "metadata": {},
     "output_type": "execute_result"
    }
   ],
   "source": [
    "APday"
   ]
  },
  {
   "cell_type": "code",
   "execution_count": 9,
   "id": "86dfd8b6-2709-4ac7-97ec-b3846b392ad0",
   "metadata": {},
   "outputs": [
    {
     "data": {
      "text/plain": [
       "{'Header': {'Conventions': 'CF-1.11 CMIP-7.0.0.0',\n",
       "  'checksum': 'db4b1e36de301ace2874e9851f0b0a2c',\n",
       "  'cmor_version': '3.10',\n",
       "  'generic_levels': '',\n",
       "  'int_missing_value': '-999',\n",
       "  'missing_value': '1e20',\n",
       "  'product': 'model-output',\n",
       "  'table_date': '2025-02-25',\n",
       "  'table_id': 'atmos',\n",
       "  'realm': 'ocean',\n",
       "  'type': 'real',\n",
       "  'positive': '',\n",
       "  'valid_min': '',\n",
       "  'valid_max': '',\n",
       "  'ok_min_mean_abs': '',\n",
       "  'ok_max_mean_abs': ''},\n",
       " 'variable_entry': {'tos': {'cell_measures': 'area: areacello',\n",
       "   'cell_methods': 'area: mean where sea time: mean',\n",
       "   'comment': 'Temperature of upper boundary of the liquid ocean, including temperatures below sea-ice and floating ice shelves',\n",
       "   'dimensions': ['longitude', 'latitude', 'time'],\n",
       "   'frequency': 'mon',\n",
       "   'long_name': 'Sea Surface Temperature',\n",
       "   'modeling_realm': ['ocean'],\n",
       "   'ok_max_mean_abs': '',\n",
       "   'ok_min_mean_abs': '',\n",
       "   'out_name': 'tos',\n",
       "   'positive': '',\n",
       "   'standard_name': 'sea_surface_temperature',\n",
       "   'type': 'real',\n",
       "   'units': 'degC',\n",
       "   'valid_max': '',\n",
       "   'valid_min': ''}}}"
      ]
     },
     "execution_count": 9,
     "metadata": {},
     "output_type": "execute_result"
    }
   ],
   "source": [
    "OPmon"
   ]
  },
  {
   "cell_type": "code",
   "execution_count": 10,
   "id": "5ad8f6c6-d3b9-4ac9-a814-7893635fae3a",
   "metadata": {},
   "outputs": [
    {
     "data": {
      "text/plain": [
       "{'Header': {'Conventions': 'CF-1.11 CMIP-7.0.0.0',\n",
       "  'checksum': '61b34e5e0d6dd30f5107587442eb36be',\n",
       "  'cmor_version': '3.10',\n",
       "  'generic_levels': 'olevel olevhalf',\n",
       "  'int_missing_value': '-999',\n",
       "  'missing_value': '1e20',\n",
       "  'product': 'model-output',\n",
       "  'table_date': '2025-02-25',\n",
       "  'table_id': 'atmos',\n",
       "  'realm': 'ocean',\n",
       "  'type': 'real',\n",
       "  'positive': '',\n",
       "  'valid_min': '',\n",
       "  'valid_max': '',\n",
       "  'ok_min_mean_abs': '',\n",
       "  'ok_max_mean_abs': ''},\n",
       " 'variable_entry': {'thetao': {'cell_measures': 'area: areacello volume: volcello',\n",
       "   'cell_methods': 'area: mean where sea time: mean',\n",
       "   'comment': 'Diagnostic should be contributed even for models using conservative temperature as prognostic field',\n",
       "   'dimensions': ['longitude', 'latitude', 'olevel', 'time'],\n",
       "   'frequency': 'mon',\n",
       "   'long_name': 'Sea Water Potential Temperature',\n",
       "   'modeling_realm': ['ocean'],\n",
       "   'ok_max_mean_abs': '',\n",
       "   'ok_min_mean_abs': '',\n",
       "   'out_name': 'thetao',\n",
       "   'positive': '',\n",
       "   'standard_name': 'sea_water_potential_temperature',\n",
       "   'type': 'real',\n",
       "   'units': 'degC',\n",
       "   'valid_max': '',\n",
       "   'valid_min': ''}}}"
      ]
     },
     "execution_count": 10,
     "metadata": {},
     "output_type": "execute_result"
    }
   ],
   "source": [
    "OPmonLev"
   ]
  },
  {
   "cell_type": "markdown",
   "id": "23586913-4004-48d4-963b-17844b76656a",
   "metadata": {},
   "source": [
    "### create CMIP7_CVs.json"
   ]
  },
  {
   "cell_type": "code",
   "execution_count": 11,
   "id": "52db832d-4c6d-4990-9bc4-e84d84646d48",
   "metadata": {},
   "outputs": [
    {
     "name": "stdout",
     "output_type": "stream",
     "text": [
      "0 CV\n",
      "CPU times: user 4.28 ms, sys: 1.4 ms, total: 5.68 ms\n",
      "Wall time: 20.6 ms\n"
     ]
    }
   ],
   "source": [
    "%%time\n",
    "# get CMIP6_CVs\n",
    "urls = {\n",
    "    \"CV\": \"https://raw.githubusercontent.com/PCMDI/cmip6-cmor-tables/refs/heads/main/Tables/CMIP6_CV.json\",\n",
    "}\n",
    "\n",
    "# loop through urls\n",
    "keys = urls.keys()\n",
    "for count, key in enumerate(keys):\n",
    "    print(count, key)\n",
    "    url = urls[key]\n",
    "    try:\n",
    "        response = requests.get(url)\n",
    "        response.raise_for_status()  # Raise HTTPError for bad responses (4/5xx)\n",
    "        vars()[key] = json.loads(response.text)\n",
    "    except requests.exceptions.RequestException as e:\n",
    "        print(f\"Request failed: {e}\")\n",
    "    except json.JSONDecodeError as e:\n",
    "        print(f\"JSON decode failed: {e}\")\n",
    "    except Exception as e:\n",
    "        print(f\"Unexpected error occurred: {e}\")"
   ]
  },
  {
   "cell_type": "markdown",
   "id": "22409b15-69d7-4de9-b401-04c1b7aa4129",
   "metadata": {},
   "source": [
    "### CVs - trim out redundant entries"
   ]
  },
  {
   "cell_type": "code",
   "execution_count": 12,
   "id": "c43f30d5-19e1-44c6-a732-6274b09433a5",
   "metadata": {},
   "outputs": [],
   "source": [
    "keyList = list(CV[\"CV\"].keys())\n",
    "keepKeys = [\n",
    "    \"frequency\",\n",
    "    \"grid_label\",\n",
    "    \"license\",\n",
    "    \"product\",\n",
    "    \"realm\",\n",
    "    \"source_type\",\n",
    "    \"tracking_id\",\n",
    "]\n",
    "for count, key in enumerate(keyList):\n",
    "    if key not in keepKeys:\n",
    "        CV[\"CV\"].pop(key)"
   ]
  },
  {
   "cell_type": "markdown",
   "id": "f6464eca-4084-4703-915d-0adae6cd0195",
   "metadata": {},
   "source": [
    "### CVs - cleanup"
   ]
  },
  {
   "cell_type": "code",
   "execution_count": 13,
   "id": "d95604b6-8afe-4749-9d14-9de2fa644f54",
   "metadata": {},
   "outputs": [],
   "source": [
    "# frequency\n",
    "keepKeys = [\"1hr\", \"1hrCM\", \"3hr\", \"6hr\", \"day\", \"dec\", \"fx\", \"mon\", \"monC\", \"yr\"]\n",
    "keyList = list(CV[\"CV\"][\"frequency\"].keys())\n",
    "for count, key in enumerate(keyList):\n",
    "    if key not in keepKeys:\n",
    "        CV[\"CV\"][\"frequency\"].pop(key)\n",
    "# grid_label\n",
    "keepKeys = [\"gm\", \"gn\", \"gna\", \"gng\", \"gnz\", \"gr\", \"gra\", \"grg\", \"grz\"]\n",
    "keyList = list(CV[\"CV\"][\"grid_label\"].keys())\n",
    "for count, key in enumerate(keyList):\n",
    "    if key not in keepKeys:\n",
    "        CV[\"CV\"][\"grid_label\"].pop(key)\n",
    "# license\n",
    "CV[\"CV\"][\"license\"][0] = CV[\"CV\"][\"license\"][0].replace(\"CMIP6\", \"CMIP7\")"
   ]
  },
  {
   "cell_type": "code",
   "execution_count": 14,
   "id": "13b25f53-6b7e-4aa0-89bb-9b4ebea7ab07",
   "metadata": {},
   "outputs": [],
   "source": [
    "CV[\"CV\"][\"approx_interval\"] = {}\n",
    "CV[\"CV\"][\"approx_interval\"][\"subhr\"] = (\n",
    "    1 / 24 / 4\n",
    ")  # 15 mins (60/25) = 25 mins CMIP6, see also \"approx_interval_error\", \"approx_interval_warning\"\n",
    "# https://github.com/PCMDI/cmip6-cmor-tables/blob/e3644d3b814d632c4343b9ae5a59faf1ed20191c/Tables/CMIP6_CFsubhr.json#L11-L13\n",
    "CV[\"CV\"][\"approx_interval\"][\"1hr\"] = 1.0 / 24\n",
    "CV[\"CV\"][\"approx_interval\"][\"3hr\"] = 1.0 / 8\n",
    "CV[\"CV\"][\"approx_interval\"][\"6hr\"] = 1.0 / 4\n",
    "CV[\"CV\"][\"approx_interval\"][\"day\"] = 1.0\n",
    "CV[\"CV\"][\"approx_interval\"][\"mon\"] = 30.0\n",
    "CV[\"CV\"][\"approx_interval\"][\"yr\"] = 365.0\n",
    "CV[\"CV\"][\"approx_interval\"][\"dec\"] = 365.0 * 10\n",
    "CV[\"CV\"][\"data_specs_version\"] = \"CMIP-7.0.0.0\"\n",
    "CV[\"CV\"][\"mip_era\"] = \"CMIP7\""
   ]
  },
  {
   "cell_type": "code",
   "execution_count": 15,
   "id": "4a7a2690-7da5-4c46-9f4e-1ffce90a7758",
   "metadata": {},
   "outputs": [],
   "source": [
    "# sort CV contents\n",
    "CV[\"CV\"] = dict(sorted(CV[\"CV\"].items()))"
   ]
  },
  {
   "cell_type": "markdown",
   "id": "29c8d62d-0c95-43dd-bb2b-985dcc9ce1f4",
   "metadata": {},
   "source": [
    "### write all files out"
   ]
  },
  {
   "cell_type": "code",
   "execution_count": 16,
   "id": "f3f1d01d-ed23-4c23-a883-2c05d36ae5b3",
   "metadata": {},
   "outputs": [
    {
     "name": "stdout",
     "output_type": "stream",
     "text": [
      "0 APday\n",
      "outPathAndFileName: /Users/durack1/sync/git/cmor/TestTables/CMIP7_APday.json\n",
      "1 OPmon\n",
      "outPathAndFileName: /Users/durack1/sync/git/cmor/TestTables/CMIP7_OPmon.json\n",
      "2 OPmonLev\n",
      "outPathAndFileName: /Users/durack1/sync/git/cmor/TestTables/CMIP7_OPmonLev.json\n",
      "3 CV\n",
      "outPathAndFileName: /Users/durack1/sync/git/cmor/TestTables/CMIP7_CV.json\n"
     ]
    }
   ],
   "source": [
    "files = [\"APday\", \"OPmon\", \"OPmonLev\", \"CV\"]\n",
    "for count, name in enumerate(files):\n",
    "    print(count, name)\n",
    "    dic = eval(name)\n",
    "    # set outpath\n",
    "    outPath = \"/Users/durack1/sync/git/cmor/TestTables\"\n",
    "    # write file\n",
    "    outFile = \"\".join([\"CMIP7_\", name, \".json\"])\n",
    "    outPathAndFileName = os.path.join(outPath, outFile)\n",
    "    print(\"outPathAndFileName:\", outPathAndFileName)\n",
    "    with open(outPathAndFileName, \"w\") as f:\n",
    "        json.dump(\n",
    "            dic, f, ensure_ascii=True, sort_keys=True, indent=4, separators=(\",\", \":\")\n",
    "        )"
   ]
  }
 ],
 "metadata": {
  "kernelspec": {
   "display_name": "Python 3 (ipykernel)",
   "language": "python",
   "name": "python3"
  },
  "language_info": {
   "codemirror_mode": {
    "name": "ipython",
    "version": 3
   },
   "file_extension": ".py",
   "mimetype": "text/x-python",
   "name": "python",
   "nbconvert_exporter": "python",
   "pygments_lexer": "ipython3",
   "version": "3.13.2"
  }
 },
 "nbformat": 4,
 "nbformat_minor": 5
}
